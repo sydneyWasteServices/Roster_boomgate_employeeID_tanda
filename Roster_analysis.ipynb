{
 "cells": [
  {
   "cell_type": "code",
   "execution_count": 1,
   "id": "fc1bdd52",
   "metadata": {},
   "outputs": [],
   "source": [
    "import pandas as pd\n",
    "import numpy as np"
   ]
  },
  {
   "cell_type": "code",
   "execution_count": 10,
   "id": "911d40e1",
   "metadata": {},
   "outputs": [
    {
     "data": {
      "text/html": [
       "<div>\n",
       "<style scoped>\n",
       "    .dataframe tbody tr th:only-of-type {\n",
       "        vertical-align: middle;\n",
       "    }\n",
       "\n",
       "    .dataframe tbody tr th {\n",
       "        vertical-align: top;\n",
       "    }\n",
       "\n",
       "    .dataframe thead th {\n",
       "        text-align: right;\n",
       "    }\n",
       "</style>\n",
       "<table border=\"1\" class=\"dataframe\">\n",
       "  <thead>\n",
       "    <tr style=\"text-align: right;\">\n",
       "      <th></th>\n",
       "      <th>Date</th>\n",
       "      <th>Run_type</th>\n",
       "      <th>Primary_employeeID</th>\n",
       "      <th>Secondary_employeeID</th>\n",
       "      <th>Primary_driver_Name</th>\n",
       "      <th>Secondary_Driver_Name</th>\n",
       "      <th>Primary_route</th>\n",
       "      <th>Satellite_Route_1</th>\n",
       "      <th>Satellite_Route_2</th>\n",
       "      <th>Primary_truck</th>\n",
       "      <th>Alternative_Truck</th>\n",
       "      <th>Subcontracted_From/Special_Client</th>\n",
       "    </tr>\n",
       "  </thead>\n",
       "  <tbody>\n",
       "    <tr>\n",
       "      <th>0</th>\n",
       "      <td>2021-04-13</td>\n",
       "      <td>NIGHT RUNS</td>\n",
       "      <td>swaklado</td>\n",
       "      <td>NaN</td>\n",
       "      <td>adonis akl</td>\n",
       "      <td>NaN</td>\n",
       "      <td>rle</td>\n",
       "      <td>NaN</td>\n",
       "      <td>NaN</td>\n",
       "      <td>CL 98 LU</td>\n",
       "      <td>NaN</td>\n",
       "      <td>NaN</td>\n",
       "    </tr>\n",
       "  </tbody>\n",
       "</table>\n",
       "</div>"
      ],
      "text/plain": [
       "        Date    Run_type Primary_employeeID Secondary_employeeID  \\\n",
       "0 2021-04-13  NIGHT RUNS           swaklado                  NaN   \n",
       "\n",
       "  Primary_driver_Name Secondary_Driver_Name Primary_route Satellite_Route_1  \\\n",
       "0          adonis akl                   NaN           rle               NaN   \n",
       "\n",
       "  Satellite_Route_2 Primary_truck Alternative_Truck  \\\n",
       "0               NaN      CL 98 LU               NaN   \n",
       "\n",
       "  Subcontracted_From/Special_Client  \n",
       "0                               NaN  "
      ]
     },
     "execution_count": 10,
     "metadata": {},
     "output_type": "execute_result"
    }
   ],
   "source": [
    "PATH_ROS = '/home/gordon_local/local_workplace/blobStore/driver_timesheets/roster_processed.xlsx'\n",
    "\n",
    "df = pd.read_excel(PATH_ROS)\n",
    "# check name input mistake issues\n",
    "df['Primary_driver_Name'] = df.Primary_driver_Name.str.lower()\n",
    "df['Primary_route'] = df.Primary_route.str.lower()\n",
    "df.head(1)"
   ]
  },
  {
   "cell_type": "code",
   "execution_count": 18,
   "id": "58e40c20",
   "metadata": {},
   "outputs": [
    {
     "data": {
      "text/plain": [
       "5"
      ]
     },
     "execution_count": 18,
     "metadata": {},
     "output_type": "execute_result"
    }
   ],
   "source": [
    "# df.groupby('Primary_driver_Name')['Primary_route'].count()\n",
    "# df.groupby('Primary_route')['Primary_route'].count()\n",
    "emID_total = df.groupby('Primary_employeeID')['Primary_employeeID'].count()\n",
    "# index => key   / emID_total_runs => series frame\n",
    "emID_total_runs.loc['ir20']"
   ]
  },
  {
   "cell_type": "code",
   "execution_count": 23,
   "id": "abc36367",
   "metadata": {},
   "outputs": [
    {
     "data": {
      "text/plain": [
       "Primary_employeeID  Primary_route\n",
       "ir02                br1              2\n",
       "                    rl5              1\n",
       "                    rld              2\n",
       "ir12                rlj              5\n",
       "ir20                rl9              5\n",
       "irdeaz              rl7              6\n",
       "subcon1             red              3\n",
       "                    rl9              1\n",
       "                    rlc              2\n",
       "swaklado            rle              5\n",
       "swbaichr            br1              4\n",
       "                    flg              2\n",
       "swbranat            rlk              1\n",
       "                    uos              3\n",
       "                    uos camden       1\n",
       "                    uos cb           1\n",
       "swburlei            rlh              5\n",
       "swdinvie            red              2\n",
       "                    rlj              1\n",
       "                    rlr              5\n",
       "swdoalb             rl2              5\n",
       "swedwben            swg              5\n",
       "swfiejih            rl6              4\n",
       "swhewg              hyg              5\n",
       "swjusjoh            niwpr2           5\n",
       "                    rl2              1\n",
       "swkuma              rl9              1\n",
       "swlip               rli              6\n",
       "swliqi              niwpr1           5\n",
       "swlocbra            flg              2\n",
       "swmittai            br3              6\n",
       "swmoylou            rl5              4\n",
       "                    swg              1\n",
       "swnevpj             br1              1\n",
       "                    br2              5\n",
       "swrigda             flg              2\n",
       "                    hook             2\n",
       "                    rlk              2\n",
       "swrobgar            rl1              3\n",
       "swshekev            rl8              5\n",
       "swsinvic            rld              4\n",
       "swtaujul            fl2              5\n",
       "swtubjoh            doy              3\n",
       "                    rl1              2\n",
       "                    rl1/doy          1\n",
       "swtupfek            rl4              6\n",
       "swwarrob            camp             1\n",
       "                    uni              1\n",
       "                    uos              4\n",
       "swwhinei            rlp              5\n",
       "Name: Run_type, dtype: int64"
      ]
     },
     "execution_count": 23,
     "metadata": {},
     "output_type": "execute_result"
    }
   ],
   "source": [
    "emID_routeID_total = df.groupby(['Primary_employeeID', pd.Grouper('Primary_route')])['Run_type'].count()\n",
    "# emID_routeID_total.index\n",
    "# access to muti index\n",
    "# emID_routeID_total.ir02.rl5\n",
    "\n",
    "emID_routeID_total"
   ]
  },
  {
   "cell_type": "code",
   "execution_count": null,
   "id": "1a75f570",
   "metadata": {},
   "outputs": [],
   "source": []
  },
  {
   "cell_type": "code",
   "execution_count": null,
   "id": "a3ba92db",
   "metadata": {},
   "outputs": [],
   "source": []
  },
  {
   "cell_type": "code",
   "execution_count": null,
   "id": "05b46541",
   "metadata": {},
   "outputs": [],
   "source": []
  },
  {
   "cell_type": "code",
   "execution_count": null,
   "id": "f0472c2b",
   "metadata": {},
   "outputs": [],
   "source": []
  }
 ],
 "metadata": {
  "kernelspec": {
   "display_name": "Python 3",
   "language": "python",
   "name": "python3"
  },
  "language_info": {
   "codemirror_mode": {
    "name": "ipython",
    "version": 3
   },
   "file_extension": ".py",
   "mimetype": "text/x-python",
   "name": "python",
   "nbconvert_exporter": "python",
   "pygments_lexer": "ipython3",
   "version": "3.7.3"
  }
 },
 "nbformat": 4,
 "nbformat_minor": 5
}
