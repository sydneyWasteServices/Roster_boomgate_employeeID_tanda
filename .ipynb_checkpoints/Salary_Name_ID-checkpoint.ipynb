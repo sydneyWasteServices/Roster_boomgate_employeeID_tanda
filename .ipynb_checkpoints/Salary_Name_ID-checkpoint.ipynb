{
 "cells": [
  {
   "cell_type": "code",
   "execution_count": 1,
   "id": "4f4e3399",
   "metadata": {},
   "outputs": [],
   "source": [
    "import pandas as pd\n",
    "import numpy as np"
   ]
  },
  {
   "cell_type": "code",
   "execution_count": 54,
   "id": "1be5ce27",
   "metadata": {},
   "outputs": [
    {
     "name": "stderr",
     "output_type": "stream",
     "text": [
      "/home/gordon_local/anaconda3/lib/python3.7/site-packages/ipykernel_launcher.py:12: FutureWarning: The default value of regex will change from True to False in a future version. In addition, single character regular expressions will*not* be treated as literal strings when regex=True.\n",
      "  if sys.path[0] == '':\n"
     ]
    }
   ],
   "source": [
    "PATH_EM = '/home/gordon_local/local_workplace/swsWorkBringHome/name_ID_sort/employeeID_data.csv'\n",
    "PATH_SAL = '/home/gordon_local/local_workplace/blobStore/driver_timesheets/payroll_timesheets.xlsx'\n",
    "\n",
    "# Salary timesheet => Burgess has issue, must add a comma\n",
    "# Employee ID list  => Robert garry\n",
    "\n",
    "df = pd.read_excel(PATH_SAL)\n",
    "df.pop('Unnamed: 26')\n",
    "\n",
    "df = df.rename(columns={'Employee ID' : 'EmployeeID'})\n",
    "\n",
    "df['Employee Name'] = df['Employee Name'].str.replace('*','')\n",
    "\n",
    "df['EmployeeID'] = df['EmployeeID'].str.lower()\n",
    "\n",
    "df[['lastname', 'firstname']] = df['Employee Name'].str.lower().str.split(\",\", 1, expand=True)\n",
    "\n",
    "df['lastname'] = df['lastname'].str.strip()\n",
    "df['firstname'] = df['firstname'].str.strip()\n",
    "\n",
    "df['lastname'] = [lastname.split(\" \")[1] if len(lastname.strip().split(\" \")) > 1 else lastname for lastname in df.lastname]\n",
    "\n",
    "df['middlename'] = [middlename.split(\" \")[1] if len(middlename.split(\" \")) > 1 else 'nomiddlename' for middlename in df.firstname]\n",
    "\n",
    "df['firstname'] = [firstname.split(\" \")[0] if len(firstname.split(\" \")) > 1 else firstname for firstname in df.firstname]\n",
    "\n",
    "df['lastname'] = df['lastname'].str.strip()\n",
    "df['firstname'] = df['firstname'].str.strip()\n",
    "\n",
    "df_em = pd.read_csv(PATH_EM)\n"
   ]
  },
  {
   "cell_type": "code",
   "execution_count": 55,
   "id": "715a7fa6",
   "metadata": {},
   "outputs": [],
   "source": [
    "df_merge_em_sal = pd.merge(df, df_em, on=['lastname', 'firstname'], how='left', suffixes=(\"_sal\", \"_em\"))"
   ]
  },
  {
   "cell_type": "code",
   "execution_count": 62,
   "id": "63bab44f",
   "metadata": {},
   "outputs": [],
   "source": [
    "# [['EmployeeID','Employee Name','lastname', 'firstname','middlename']]\n",
    "# 'EmployeeID_sal',\n",
    "df_merge_em_sal[['EmployeeID_em' ,'Employee Name','lastname', 'firstname','middlename_sal', 'middlename_em','Total hours']]\n",
    "\n",
    "df_merge_em_sal.to_csv('./emID_salaryTime.csv',index=False)\n",
    "# \troberts\tgary"
   ]
  },
  {
   "cell_type": "code",
   "execution_count": 57,
   "id": "87c47b57",
   "metadata": {},
   "outputs": [],
   "source": [
    "# df[['EmployeeID','Employee Name','lastname', 'firstname','middlename']]"
   ]
  },
  {
   "cell_type": "code",
   "execution_count": 58,
   "id": "4fabe60b",
   "metadata": {},
   "outputs": [],
   "source": [
    "# df_em.head(50)"
   ]
  },
  {
   "cell_type": "code",
   "execution_count": null,
   "id": "b2c5d0aa",
   "metadata": {},
   "outputs": [],
   "source": []
  },
  {
   "cell_type": "code",
   "execution_count": null,
   "id": "6cb9f46b",
   "metadata": {},
   "outputs": [],
   "source": []
  }
 ],
 "metadata": {
  "kernelspec": {
   "display_name": "Python 3",
   "language": "python",
   "name": "python3"
  },
  "language_info": {
   "codemirror_mode": {
    "name": "ipython",
    "version": 3
   },
   "file_extension": ".py",
   "mimetype": "text/x-python",
   "name": "python",
   "nbconvert_exporter": "python",
   "pygments_lexer": "ipython3",
   "version": "3.7.3"
  }
 },
 "nbformat": 4,
 "nbformat_minor": 5
}
